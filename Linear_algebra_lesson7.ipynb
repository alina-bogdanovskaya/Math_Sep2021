{
  "nbformat": 4,
  "nbformat_minor": 0,
  "metadata": {
    "colab": {
      "name": "Linear algebra_lesson7.ipynb",
      "provenance": [],
      "authorship_tag": "ABX9TyPU5vJGjbG2tBlYO8yyS2k2",
      "include_colab_link": true
    },
    "kernelspec": {
      "name": "python3",
      "display_name": "Python 3"
    },
    "language_info": {
      "name": "python"
    }
  },
  "cells": [
    {
      "cell_type": "markdown",
      "metadata": {
        "id": "view-in-github",
        "colab_type": "text"
      },
      "source": [
        "<a href=\"https://colab.research.google.com/github/alina-bogdanovskaya/Math_Sep2021/blob/lesson7/Linear_algebra_lesson7.ipynb\" target=\"_parent\"><img src=\"https://colab.research.google.com/assets/colab-badge.svg\" alt=\"Open In Colab\"/></a>"
      ]
    },
    {
      "cell_type": "code",
      "metadata": {
        "id": "HasP6dOqAT47"
      },
      "source": [
        "%matplotlib inline\n",
        "import numpy as np"
      ],
      "execution_count": 1,
      "outputs": []
    },
    {
      "cell_type": "code",
      "metadata": {
        "id": "oJIyDnldBEyK"
      },
      "source": [
        "A = np.array([[2, 2, 2], [2, 2, 2], [2, 2, 2]])\n",
        "B = np.array([[3, 3, 3], [3, 3, 3], [3, 3, 3]])\n",
        "C = np.array([[4, 4, 4], [4, 4, 4], [4, 4, 4]])\n",
        "k = 2\n",
        "l = 3"
      ],
      "execution_count": 2,
      "outputs": []
    },
    {
      "cell_type": "code",
      "metadata": {
        "colab": {
          "base_uri": "https://localhost:8080/"
        },
        "id": "ce6Uw4PsAVBI",
        "outputId": "c884e186-3409-4f36-a85a-277da287b978"
      },
      "source": [
        "res1 = (k * l) * A\n",
        "res2 = k * (l * A)\n",
        "\n",
        "print(res1)\n",
        "print(res2)\n",
        "\n",
        "comparison = res1 == res2\n",
        "print(comparison.all())"
      ],
      "execution_count": 3,
      "outputs": [
        {
          "output_type": "stream",
          "name": "stdout",
          "text": [
            "[[12 12 12]\n",
            " [12 12 12]\n",
            " [12 12 12]]\n",
            "[[12 12 12]\n",
            " [12 12 12]\n",
            " [12 12 12]]\n",
            "True\n"
          ]
        }
      ]
    },
    {
      "cell_type": "code",
      "metadata": {
        "colab": {
          "base_uri": "https://localhost:8080/"
        },
        "id": "54UjM-i8BedC",
        "outputId": "24c89484-8d97-4e27-c136-3e870079d2a0"
      },
      "source": [
        "res1 = k * (A + B)\n",
        "res2 = k * A + k * B\n",
        "\n",
        "print(res1)\n",
        "print(res2)\n",
        "\n",
        "comparison = res1 == res2\n",
        "print(comparison.all())"
      ],
      "execution_count": 4,
      "outputs": [
        {
          "output_type": "stream",
          "name": "stdout",
          "text": [
            "[[10 10 10]\n",
            " [10 10 10]\n",
            " [10 10 10]]\n",
            "[[10 10 10]\n",
            " [10 10 10]\n",
            " [10 10 10]]\n",
            "True\n"
          ]
        }
      ]
    },
    {
      "cell_type": "code",
      "metadata": {
        "colab": {
          "base_uri": "https://localhost:8080/"
        },
        "id": "SRJ0_g_zB0Lj",
        "outputId": "196653a5-3f09-4d35-8568-0de8a667064c"
      },
      "source": [
        "res1 = (k + l) * A\n",
        "res2 = k * A + l * A\n",
        "\n",
        "print(res1)\n",
        "print(res2)\n",
        "\n",
        "comparison = res1 == res2\n",
        "print(comparison.all())"
      ],
      "execution_count": 5,
      "outputs": [
        {
          "output_type": "stream",
          "name": "stdout",
          "text": [
            "[[10 10 10]\n",
            " [10 10 10]\n",
            " [10 10 10]]\n",
            "[[10 10 10]\n",
            " [10 10 10]\n",
            " [10 10 10]]\n",
            "True\n"
          ]
        }
      ]
    },
    {
      "cell_type": "code",
      "metadata": {
        "colab": {
          "base_uri": "https://localhost:8080/"
        },
        "id": "-t-9MMNmCQUf",
        "outputId": "1a91f912-20ee-4826-9e72-95fa2f9b89fb"
      },
      "source": [
        "res1 = (A * B) * C\n",
        "res2 = A * (B * C)\n",
        "\n",
        "print(res1)\n",
        "print(res2)\n",
        "\n",
        "comparison = res1 == res2\n",
        "print(comparison.all())"
      ],
      "execution_count": 6,
      "outputs": [
        {
          "output_type": "stream",
          "name": "stdout",
          "text": [
            "[[24 24 24]\n",
            " [24 24 24]\n",
            " [24 24 24]]\n",
            "[[24 24 24]\n",
            " [24 24 24]\n",
            " [24 24 24]]\n",
            "True\n"
          ]
        }
      ]
    },
    {
      "cell_type": "code",
      "metadata": {
        "colab": {
          "base_uri": "https://localhost:8080/"
        },
        "id": "CPOIU2wlCbSd",
        "outputId": "55802031-f7ff-4d2e-af72-3c1db0a6fd7a"
      },
      "source": [
        "res1 = (A + B) * C\n",
        "res2 = A * C + B * C\n",
        "\n",
        "print(res1)\n",
        "print(res2)\n",
        "\n",
        "comparison = res1 == res2\n",
        "print(comparison.all())"
      ],
      "execution_count": 7,
      "outputs": [
        {
          "output_type": "stream",
          "name": "stdout",
          "text": [
            "[[20 20 20]\n",
            " [20 20 20]\n",
            " [20 20 20]]\n",
            "[[20 20 20]\n",
            " [20 20 20]\n",
            " [20 20 20]]\n",
            "True\n"
          ]
        }
      ]
    },
    {
      "cell_type": "code",
      "metadata": {
        "colab": {
          "base_uri": "https://localhost:8080/"
        },
        "id": "DkKz5psBChiE",
        "outputId": "5f8a5758-7a7b-4e42-ba34-af9bd18e5298"
      },
      "source": [
        "res1 = A * (B + C)\n",
        "res2 = A * B + A * C\n",
        "\n",
        "print(res1)\n",
        "print(res2)\n",
        "\n",
        "comparison = res1 == res2\n",
        "print(comparison.all())"
      ],
      "execution_count": 8,
      "outputs": [
        {
          "output_type": "stream",
          "name": "stdout",
          "text": [
            "[[14 14 14]\n",
            " [14 14 14]\n",
            " [14 14 14]]\n",
            "[[14 14 14]\n",
            " [14 14 14]\n",
            " [14 14 14]]\n",
            "True\n"
          ]
        }
      ]
    }
  ]
}