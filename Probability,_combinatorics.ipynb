{
  "nbformat": 4,
  "nbformat_minor": 0,
  "metadata": {
    "colab": {
      "name": "Probability, combinatorics.ipynb",
      "provenance": [],
      "collapsed_sections": [],
      "authorship_tag": "ABX9TyPXPDODKAmoGlnOla+vzau9",
      "include_colab_link": true
    },
    "kernelspec": {
      "name": "python3",
      "display_name": "Python 3"
    },
    "language_info": {
      "name": "python"
    }
  },
  "cells": [
    {
      "cell_type": "markdown",
      "metadata": {
        "id": "view-in-github",
        "colab_type": "text"
      },
      "source": [
        "<a href=\"https://colab.research.google.com/github/alina-bogdanovskaya/Math_Sep2021/blob/lesson5/Probability%2C_combinatorics.ipynb\" target=\"_parent\"><img src=\"https://colab.research.google.com/assets/colab-badge.svg\" alt=\"Open In Colab\"/></a>"
      ]
    },
    {
      "cell_type": "code",
      "metadata": {
        "id": "pCu5krpeFgeo"
      },
      "source": [
        "%matplotlib inline\n",
        "import numpy as np\n",
        "import matplotlib.pyplot as plt\n",
        "import itertools \n",
        "from termcolor import colored \n",
        "from scipy.stats import pearsonr"
      ],
      "execution_count": 19,
      "outputs": []
    },
    {
      "cell_type": "code",
      "metadata": {
        "id": "OdA2K-YeGoRO"
      },
      "source": [
        "#Roulette\n",
        "red_list = [1, 3, 5, 7, 9, 12, 14, 16, 18, 19, 21, 23, 25, 27, 30, 32, 34, 36]\n",
        "black_list = [2, 4, 6, 8, 10, 11, 13, 15, 17, 20, 22, 24, 26, 28, 29, 31, 33, 35]\n",
        "\n",
        "for i in range(0, 10):\n",
        "  a = input()\n",
        "  num = np.random.randint(0, 37)\n",
        "  if num == 0:\n",
        "    print(colored('zero', 'white', 'on_green'))\n",
        "  elif num in red_list:\n",
        "    print(colored(f'{num} red', 'white', 'on_red'))\n",
        "  else: \n",
        "    print(colored(f'{num} black', 'white', 'on_grey'))"
      ],
      "execution_count": null,
      "outputs": []
    },
    {
      "cell_type": "code",
      "metadata": {
        "colab": {
          "base_uri": "https://localhost:8080/"
        },
        "id": "ZxmNuiHMhZEt",
        "outputId": "0df7b030-7f0b-44c5-e189-c9207e14db52"
      },
      "source": [
        "#d6, P(A+B) = P(A)+P(B)\n",
        "k, l, m, n = 0, 0, 0, 10000\n",
        "\n",
        "for i in range(n+1):\n",
        "  a = np.random.randint(1, 7, 1) \n",
        "  if a == 5 or a == 6:\n",
        "    k += 1\n",
        "  if a == 5:\n",
        "    l += 1\n",
        "  if a == 6:\n",
        "    m += 1\n",
        "\n",
        "print(f'{k} of {n}, {k/n}')\n",
        "print(f'{l + m} of {n}, {(l+m)/n}')\n",
        "\n",
        "if k == l+m:\n",
        "  print(True)\n",
        "else:\n",
        "  print(False)"
      ],
      "execution_count": 21,
      "outputs": [
        {
          "output_type": "stream",
          "name": "stdout",
          "text": [
            "3370 of 10000, 0.337\n",
            "3370 of 10000, 0.337\n",
            "True\n"
          ]
        }
      ]
    },
    {
      "cell_type": "code",
      "metadata": {
        "colab": {
          "base_uri": "https://localhost:8080/",
          "height": 351
        },
        "id": "LLDGVFw0HsyI",
        "outputId": "45ba5efc-0fb0-4eb4-ec65-503ad2551f04"
      },
      "source": [
        "#Histogram\n",
        "n, m = 10, 10\n",
        "a_list = []\n",
        "\n",
        "for i in range(1, n + 1):\n",
        "  x = np.random.rand(m)\n",
        "  res = np.sum(x)\n",
        "  a_list.append(res)\n",
        "  \n",
        "print(a_list)\n",
        "\n",
        "n, bins, patches = plt.hist(a_list, bins = 10)\n",
        "for i in range(len(patches)):\n",
        "    patches[i].set_facecolor(plt.cm.plasma(n[i]/max(n)))\n",
        "\n",
        "plt.xlabel('SUM')\n",
        "plt.ylabel('Probability')\n",
        "plt.title('Sum Histrogram')"
      ],
      "execution_count": 22,
      "outputs": [
        {
          "output_type": "stream",
          "name": "stdout",
          "text": [
            "[4.764730398982791, 3.165526997113922, 5.168596517203797, 5.573385257688803, 5.197507556969169, 5.311957981207267, 3.8126384004451457, 4.010208936501637, 5.448376470394565, 4.8139164876841365]\n"
          ]
        },
        {
          "output_type": "execute_result",
          "data": {
            "text/plain": [
              "Text(0.5, 1.0, 'Sum Histrogram')"
            ]
          },
          "metadata": {},
          "execution_count": 22
        },
        {
          "output_type": "display_data",
          "data": {
            "image/png": "[encoded data removed]",
            "text/plain": [
              "<Figure size 432x288 with 1 Axes>"
            ]
          },
          "metadata": {
            "needs_background": "light"
          }
        }
      ]
    },
    {
      "cell_type": "code",
      "metadata": {
        "id": "yHueeyYOBK_7"
      },
      "source": [
        "def fact(n):\n",
        "  factor = 1\n",
        "  for el in range(1, n + 1):\n",
        "    factor *= el\n",
        "  return factor\n",
        "\n",
        "def binomial_distr(n, k):\n",
        "  index = fact(n) / (fact(k) * fact(n - k))\n",
        "  res = index * p**k * q**(n - k)\n",
        "  return res"
      ],
      "execution_count": 23,
      "outputs": []
    },
    {
      "cell_type": "code",
      "metadata": {
        "colab": {
          "base_uri": "https://localhost:8080/"
        },
        "id": "_g5bVZLWTLXJ",
        "outputId": "408575d4-0a9e-4ae2-e4b6-113640068e52"
      },
      "source": [
        "# Monte-Carlo\n",
        "k, n = 0, 10000\n",
        "a = np.random.randint(0, 2, n)\n",
        "b = np.random.randint(0, 2, n)\n",
        "c = np.random.randint(0, 2, n)\n",
        "d = np.random.randint(0, 2, n)\n",
        "x = a + b + c + d\n",
        "\n",
        "for i in range(0, n):\n",
        "  if x[i] == 1:\n",
        "    k = k + 1\n",
        "\n",
        "print(f'{k} of {n}') \n",
        "print(f'Monte-Carlo method {k/n}')\n",
        "\n",
        "# Bernoulli \n",
        "k, n = 1, 4\n",
        "p = 1/2\n",
        "q = 1 - p\n",
        "\n",
        "print(f'Bernoulli distribution {binomial_distr(n, k)}')"
      ],
      "execution_count": 24,
      "outputs": [
        {
          "output_type": "stream",
          "name": "stdout",
          "text": [
            "2495 of 10000\n",
            "Monte-Carlo method 0.2495\n",
            "Bernoulli distribution 0.25\n"
          ]
        }
      ]
    },
    {
      "cell_type": "code",
      "metadata": {
        "colab": {
          "base_uri": "https://localhost:8080/"
        },
        "id": "Vztg3BEelFZd",
        "outputId": "300dd7b8-a23a-4b71-d46a-ff0c1a5aa4a4"
      },
      "source": [
        "# Monte-Carlo\n",
        "k, n = 0, 10000\n",
        "res_list = []\n",
        "\n",
        "for el in range(6):  \n",
        "  a = np.random.randint(1, 7, n)\n",
        "  res_list.append(a)\n",
        "\n",
        "for el in zip(*res_list):\n",
        "  if el.count(6) == 3:\n",
        "    k += 1\n",
        "\n",
        "print(f'{k} of {n}') \n",
        "print(f'Monte-Carlo method {k/n}')\n",
        "\n",
        "# Bernoulli \n",
        "k, n = 3, 6\n",
        "p = 1/6\n",
        "q = 1 - p\n",
        "\n",
        "print(f'Bernoulli distribution {binomial_distr(n, k)}')"
      ],
      "execution_count": 25,
      "outputs": [
        {
          "output_type": "stream",
          "name": "stdout",
          "text": [
            "530 of 10000\n",
            "Monte-Carlo method 0.053\n",
            "Bernoulli distribution 0.05358367626886146\n"
          ]
        }
      ]
    },
    {
      "cell_type": "code",
      "metadata": {
        "colab": {
          "base_uri": "https://localhost:8080/"
        },
        "id": "e6rp6QR1B7CC",
        "outputId": "f7f6e774-0d59-4071-b654-a5401e268e00"
      },
      "source": [
        "n, k = 3, 3\n",
        "\n",
        "for p in itertools.permutations('012', k):\n",
        "  print(''.join(str(x) for x in p))\n",
        "\n",
        "index = fact(n)\n",
        "print(index)"
      ],
      "execution_count": 26,
      "outputs": [
        {
          "output_type": "stream",
          "name": "stdout",
          "text": [
            "012\n",
            "021\n",
            "102\n",
            "120\n",
            "201\n",
            "210\n",
            "6\n"
          ]
        }
      ]
    },
    {
      "cell_type": "code",
      "metadata": {
        "colab": {
          "base_uri": "https://localhost:8080/"
        },
        "id": "o2JMfplvCDXI",
        "outputId": "a89645d2-4cbe-4216-a017-1841509cc041"
      },
      "source": [
        "n, k = 5, 3\n",
        "\n",
        "for p in itertools.combinations('12345', k):\n",
        "  print(''.join(p))\n",
        "\n",
        "index = fact(n) / (fact(k) * fact(n - k))\n",
        "print(index)"
      ],
      "execution_count": 27,
      "outputs": [
        {
          "output_type": "stream",
          "name": "stdout",
          "text": [
            "123\n",
            "124\n",
            "125\n",
            "134\n",
            "135\n",
            "145\n",
            "234\n",
            "235\n",
            "245\n",
            "345\n",
            "10.0\n"
          ]
        }
      ]
    },
    {
      "cell_type": "code",
      "metadata": {
        "colab": {
          "base_uri": "https://localhost:8080/"
        },
        "id": "rQzery0ZKN9-",
        "outputId": "a0f7b964-965e-4a03-cd96-d3df518da890"
      },
      "source": [
        "n, k = 4, 2\n",
        "\n",
        "for p in itertools.combinations_with_replacement('abcd', 2):\n",
        "  print(''.join(p))\n",
        "\n",
        "index = fact(n+k-1) / (fact(k) * fact(n - 1))\n",
        "print(index)"
      ],
      "execution_count": 28,
      "outputs": [
        {
          "output_type": "stream",
          "name": "stdout",
          "text": [
            "aa\n",
            "ab\n",
            "ac\n",
            "ad\n",
            "bb\n",
            "bc\n",
            "bd\n",
            "cc\n",
            "cd\n",
            "dd\n",
            "10.0\n"
          ]
        }
      ]
    },
    {
      "cell_type": "code",
      "metadata": {
        "colab": {
          "base_uri": "https://localhost:8080/",
          "height": 467
        },
        "id": "uDubTScurR-f",
        "outputId": "8c7c591d-9cda-4016-968e-74db4db7d78f"
      },
      "source": [
        "n = 100\n",
        "r = 0.7\n",
        "\n",
        "x = np.random.rand(n)\n",
        "y = r * x + (1 - r) * np.random.rand(n)\n",
        "plt.plot(x, y, 'yo')\n",
        "plt.xlabel('X')\n",
        "plt.xlabel('Y')\n",
        "plt.grid(True)\n",
        "\n",
        "a = (np.sum(x) * np.sum(y) - n * np.sum(x * y)) / (np.sum(x)**2 - n * np.sum(x**2))\n",
        "b = (np.sum(y) - a * np.sum(x)) / n\n",
        "\n",
        "mean_x = np.sum(x)/n\n",
        "mean_y = np.sum(y)/n\n",
        "s1, s2, s3 = 0, 0, 0\n",
        "\n",
        "for (i, j) in zip(x, y):\n",
        "  k = i - mean_x \n",
        "  l = j - mean_y\n",
        "  s1 += (k*l)\n",
        "  s2 += k**2\n",
        "  s3 += l**2\n",
        "\n",
        "c = s1 / np.sqrt(s2 * s3)\n",
        "\n",
        "A = np.vstack([x, np.ones(len(x))]).T\n",
        "a1, b1 = np.linalg.lstsq(A, y)[0]\n",
        "c1 = np.corrcoef(x, y)\n",
        "c2 = pearsonr(x, y)\n",
        "\n",
        "print(a, b)\n",
        "print(a1, b1)\n",
        "print(c)\n",
        "print(c1)\n",
        "print(c2)\n",
        "\n",
        "plt.plot([0, 1], [b, a + b], 'purple')"
      ],
      "execution_count": 29,
      "outputs": [
        {
          "output_type": "stream",
          "name": "stdout",
          "text": [
            "0.7620650961961117 0.12611617216129686\n",
            "0.7620650961961134 0.12611617216129614\n",
            "0.9383525917756521\n",
            "[[1.         0.93835259]\n",
            " [0.93835259 1.        ]]\n",
            "(0.9383525917756521, 5.275919304648182e-47)\n"
          ]
        },
        {
          "output_type": "stream",
          "name": "stderr",
          "text": [
            "/usr/local/lib/python3.7/dist-packages/ipykernel_launcher.py:28: FutureWarning: `rcond` parameter will change to the default of machine precision times ``max(M, N)`` where M and N are the input matrix dimensions.\n",
            "To use the future default and silence this warning we advise to pass `rcond=None`, to keep using the old, explicitly pass `rcond=-1`.\n"
          ]
        },
        {
          "output_type": "execute_result",
          "data": {
            "text/plain": [
              "[<matplotlib.lines.Line2D at 0x7fc6ec27b850>]"
            ]
          },
          "metadata": {},
          "execution_count": 29
        },
        {
          "output_type": "display_data",
          "data": {
            "image/png": "[encoded data removed]",
            "text/plain": [
              "<Figure size 432x288 with 1 Axes>"
            ]
          },
          "metadata": {
            "needs_background": "light"
          }
        }
      ]
    }
  ]
}